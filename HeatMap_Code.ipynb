{
 "cells": [
  {
   "cell_type": "code",
   "execution_count": null,
   "metadata": {},
   "outputs": [],
   "source": [
    "#Change the prameters\n",
    "#(Required) S3 bucket that contains videos\n",
    "bucketName = \"<You_Bucket_name>\" #Replace <You_Bucket_name> with the bucket name you created\n",
    "imageName = \"<You_Image_name>\" #Replace <You_Image_name> with the Image name you uploaded, include the type such as .jpeg or .png\n",
    "\n",
    "#(Optional)set the parameters for the HeatMap\n",
    "matrixhight=20 #how many rectangle do you want vertically on the heatmap\n",
    "matrixwidth=30 #how many rectangle do you want horizationally on the heatmap\n",
    "DarkestColor = '#990000' #The darkest color you want on the heatmap\n",
    "LabelType = \"Person\" #You can change this to any label type that Amazon Rekognition supports"
   ]
  },
  {
   "cell_type": "code",
   "execution_count": null,
   "metadata": {},
   "outputs": [],
   "source": [
    "#Install grapefruit library for more color choice on heatmap\n",
    "import sys\n",
    "!{sys.executable} -m pip install grapefruit"
   ]
  },
  {
   "cell_type": "code",
   "execution_count": null,
   "metadata": {},
   "outputs": [],
   "source": [
    "# Initialise Notebook\n",
    "import boto3\n",
    "from IPython.display import HTML, display\n",
    "from PIL import Image, ImageDraw, ImageFont\n",
    "import os\n",
    "import numpy as np\n",
    "from grapefruit import Color"
   ]
  },
  {
   "cell_type": "code",
   "execution_count": null,
   "metadata": {},
   "outputs": [],
   "source": [
    "# Init clients\n",
    "rekognition = boto3.client('rekognition')\n",
    "s3 = boto3.client('s3')"
   ]
  },
  {
   "cell_type": "code",
   "execution_count": null,
   "metadata": {},
   "outputs": [],
   "source": [
    "!mkdir m1tmp\n",
    "tempFolder = 'm1tmp/'"
   ]
  },
  {
   "cell_type": "code",
   "execution_count": null,
   "metadata": {},
   "outputs": [],
   "source": [
    "# Start person recognition job\n",
    "recognizeLabelResponse = rekognition.detect_labels(\n",
    "    Image={\n",
    "        'S3Object': {\n",
    "            'Bucket': bucketName,\n",
    "            'Name': imageName,\n",
    "        }\n",
    "    },\n",
    "    MinConfidence=80,\n",
    ")\n",
    "\n",
    "#display(recognizeLabelResponse)"
   ]
  },
  {
   "cell_type": "code",
   "execution_count": null,
   "metadata": {},
   "outputs": [],
   "source": [
    "#Define HeatMap function\n",
    "c2 = Color.NewFromHtml(DarkestColor) \n",
    "def round_down(num, divisor):\n",
    "    return num - (num%divisor)\n",
    "\n",
    "def drawHeatMap (sourceImage,boxes):\n",
    "    c1 = Color.NewFromHtml('#ffffff')\n",
    "    \n",
    "    # Download image locally\n",
    "    imageLocation = tempFolder+os.path.basename(sourceImage)\n",
    "    s3.download_file(bucketName, sourceImage, imageLocation)\n",
    "\n",
    "    #Creat a matrix for heatmap\n",
    "    matrix = np.full((matrixhight, matrixwidth), 0, dtype=np.uint)\n",
    "            \n",
    "    # Get Image Info\n",
    "    bbImage = Image.open(imageLocation)\n",
    "    draw = ImageDraw.Draw(bbImage,\"RGBA\")\n",
    "    width, height = bbImage.size\n",
    "\n",
    "    #Decide the \"heat\" for each rectangle\n",
    "    maxnumber=0\n",
    "    for box in boxes:\n",
    "        x1 = int(round_down(box[1]['Left'], 1/matrixwidth) * matrixwidth)\n",
    "        y1 = int(round_down(box[1]['Top'], 1/matrixhight) * matrixhight)\n",
    "        x2 = int(round_down(box[1]['Left'] + box[1]['Width'], 1/matrixwidth) * matrixwidth)\n",
    "        y2 = int(round_down(box[1]['Top'] + box[1]['Height'], 1/matrixhight) * matrixhight)\n",
    "        \n",
    "        for By in range(y1, y2+1):\n",
    "            row=matrix[By]\n",
    "            for Bx in range(x1,x2+1):\n",
    "                row[Bx]=row[Bx]+1\n",
    "                if maxnumber < row[Bx]:\n",
    "                    maxnumber = row[Bx]\n",
    "                \n",
    "    #Draws the matrix on Image\n",
    "    for y in range(matrixhight):\n",
    "        for x in range(matrixwidth):\n",
    "            bx1=x/matrixwidth*width\n",
    "            by1=y/matrixhight*height\n",
    "            bx2=(x+1)/matrixwidth*width\n",
    "            by2=(y+2)/matrixhight*height\n",
    "            if matrix[y][x] == 0:\n",
    "                draw.rectangle((bx1,by1,bx2,by2),outline=\"White\",fill=None)\n",
    "            else:\n",
    "                col = c2.Blend(c1, percent=int(matrix[y][x]) / int(maxnumber))\n",
    "                transparency = str(col.html)+\"BF\" #75% transparency. To find more transparency code, go to https://gist.github.com/lopspower/03fb1cc0ac9f32ef38f4\n",
    "                draw.rectangle((bx1,by1,bx2,by2),outline=\"White\",fill=transparency)\n",
    "            \n",
    "\n",
    "    imageFormat = \"PNG\"\n",
    "    ext = sourceImage.lower()\n",
    "    if(ext.endswith('jpg') or ext.endswith('jpeg')):\n",
    "       imageFormat = 'JPEG'\n",
    "\n",
    "    bbImage.save(imageLocation,format=imageFormat)\n",
    "\n",
    "    display(bbImage)"
   ]
  },
  {
   "cell_type": "code",
   "execution_count": null,
   "metadata": {},
   "outputs": [],
   "source": [
    "#Draw a heatmap on the image\n",
    "boxes = []\n",
    "Labels = recognizeLabelResponse['Labels']\n",
    "for Label in Labels:\n",
    "    if Label['Name'] == LabelType:\n",
    "        for person in Label['Instances']:\n",
    "            boxes.append ((Label['Name'], person['BoundingBox']))\n",
    "drawHeatMap(imageName,boxes)"
   ]
  },
  {
   "cell_type": "code",
   "execution_count": null,
   "metadata": {},
   "outputs": [],
   "source": []
  }
 ],
 "metadata": {
  "kernelspec": {
   "display_name": "conda_python3",
   "language": "python",
   "name": "conda_python3"
  },
  "language_info": {
   "codemirror_mode": {
    "name": "ipython",
    "version": 3
   },
   "file_extension": ".py",
   "mimetype": "text/x-python",
   "name": "python",
   "nbconvert_exporter": "python",
   "pygments_lexer": "ipython3",
   "version": "3.6.10"
  }
 },
 "nbformat": 4,
 "nbformat_minor": 4
}
